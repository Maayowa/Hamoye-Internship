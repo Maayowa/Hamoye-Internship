{
 "cells": [
  {
   "cell_type": "code",
   "execution_count": 1,
   "id": "b9c68daa",
   "metadata": {},
   "outputs": [],
   "source": [
    "import pandas as pd\n",
    "import numpy as np\n",
    "from sklearn.linear_model import Lasso, Ridge, LassoCV, LinearRegression\n",
    "from sklearn.preprocessing import MinMaxScaler\n",
    "from sklearn.model_selection import train_test_split"
   ]
  },
  {
   "cell_type": "code",
   "execution_count": 2,
   "id": "f60d0e97",
   "metadata": {},
   "outputs": [
    {
     "data": {
      "text/html": [
       "<div>\n",
       "<style scoped>\n",
       "    .dataframe tbody tr th:only-of-type {\n",
       "        vertical-align: middle;\n",
       "    }\n",
       "\n",
       "    .dataframe tbody tr th {\n",
       "        vertical-align: top;\n",
       "    }\n",
       "\n",
       "    .dataframe thead th {\n",
       "        text-align: right;\n",
       "    }\n",
       "</style>\n",
       "<table border=\"1\" class=\"dataframe\">\n",
       "  <thead>\n",
       "    <tr style=\"text-align: right;\">\n",
       "      <th></th>\n",
       "      <th>date</th>\n",
       "      <th>Appliances</th>\n",
       "      <th>lights</th>\n",
       "      <th>T1</th>\n",
       "      <th>RH_1</th>\n",
       "      <th>T2</th>\n",
       "      <th>RH_2</th>\n",
       "      <th>T3</th>\n",
       "      <th>RH_3</th>\n",
       "      <th>T4</th>\n",
       "      <th>...</th>\n",
       "      <th>T9</th>\n",
       "      <th>RH_9</th>\n",
       "      <th>T_out</th>\n",
       "      <th>Press_mm_hg</th>\n",
       "      <th>RH_out</th>\n",
       "      <th>Windspeed</th>\n",
       "      <th>Visibility</th>\n",
       "      <th>Tdewpoint</th>\n",
       "      <th>rv1</th>\n",
       "      <th>rv2</th>\n",
       "    </tr>\n",
       "  </thead>\n",
       "  <tbody>\n",
       "    <tr>\n",
       "      <th>0</th>\n",
       "      <td>2016-01-11 17:00:00</td>\n",
       "      <td>60</td>\n",
       "      <td>30</td>\n",
       "      <td>19.89</td>\n",
       "      <td>47.596667</td>\n",
       "      <td>19.2</td>\n",
       "      <td>44.7900</td>\n",
       "      <td>19.79</td>\n",
       "      <td>44.73</td>\n",
       "      <td>19.0</td>\n",
       "      <td>...</td>\n",
       "      <td>17.033333</td>\n",
       "      <td>45.53</td>\n",
       "      <td>6.600000</td>\n",
       "      <td>733.5</td>\n",
       "      <td>92.0</td>\n",
       "      <td>7.000000</td>\n",
       "      <td>63.000000</td>\n",
       "      <td>5.3</td>\n",
       "      <td>13.275433</td>\n",
       "      <td>13.275433</td>\n",
       "    </tr>\n",
       "    <tr>\n",
       "      <th>1</th>\n",
       "      <td>2016-01-11 17:10:00</td>\n",
       "      <td>60</td>\n",
       "      <td>30</td>\n",
       "      <td>19.89</td>\n",
       "      <td>46.693333</td>\n",
       "      <td>19.2</td>\n",
       "      <td>44.7225</td>\n",
       "      <td>19.79</td>\n",
       "      <td>44.79</td>\n",
       "      <td>19.0</td>\n",
       "      <td>...</td>\n",
       "      <td>17.066667</td>\n",
       "      <td>45.56</td>\n",
       "      <td>6.483333</td>\n",
       "      <td>733.6</td>\n",
       "      <td>92.0</td>\n",
       "      <td>6.666667</td>\n",
       "      <td>59.166667</td>\n",
       "      <td>5.2</td>\n",
       "      <td>18.606195</td>\n",
       "      <td>18.606195</td>\n",
       "    </tr>\n",
       "  </tbody>\n",
       "</table>\n",
       "<p>2 rows × 29 columns</p>\n",
       "</div>"
      ],
      "text/plain": [
       "                  date  Appliances  lights     T1       RH_1    T2     RH_2  \\\n",
       "0  2016-01-11 17:00:00          60      30  19.89  47.596667  19.2  44.7900   \n",
       "1  2016-01-11 17:10:00          60      30  19.89  46.693333  19.2  44.7225   \n",
       "\n",
       "      T3   RH_3    T4  ...         T9   RH_9     T_out  Press_mm_hg  RH_out  \\\n",
       "0  19.79  44.73  19.0  ...  17.033333  45.53  6.600000        733.5    92.0   \n",
       "1  19.79  44.79  19.0  ...  17.066667  45.56  6.483333        733.6    92.0   \n",
       "\n",
       "   Windspeed  Visibility  Tdewpoint        rv1        rv2  \n",
       "0   7.000000   63.000000        5.3  13.275433  13.275433  \n",
       "1   6.666667   59.166667        5.2  18.606195  18.606195  \n",
       "\n",
       "[2 rows x 29 columns]"
      ]
     },
     "execution_count": 2,
     "metadata": {},
     "output_type": "execute_result"
    }
   ],
   "source": [
    "df = pd.read_csv(\"energydata_complete.csv\")\n",
    "df.head(2)"
   ]
  },
  {
   "cell_type": "markdown",
   "id": "5e2c107d",
   "metadata": {},
   "source": [
    "### Instruction\n",
    "\n",
    "To answer some questions, you will need to normalize the dataset using the MinMaxScaler after removing the following columns: [“date”, “lights”].\n",
    "\n",
    "The target variable is “Appliances”. Use a 70-30 train-test set split with a random state of 42 (for reproducibility). Run a multiple linear regression using the training set and evaluate your model on the test set."
   ]
  },
  {
   "cell_type": "code",
   "execution_count": 3,
   "id": "e3ab610e",
   "metadata": {},
   "outputs": [
    {
     "data": {
      "text/plain": [
       "Index(['Appliances', 'T1', 'RH_1', 'T2', 'RH_2', 'T3', 'RH_3', 'T4', 'RH_4',\n",
       "       'T5', 'RH_5', 'T6', 'RH_6', 'T7', 'RH_7', 'T8', 'RH_8', 'T9', 'RH_9',\n",
       "       'T_out', 'Press_mm_hg', 'RH_out', 'Windspeed', 'Visibility',\n",
       "       'Tdewpoint', 'rv1', 'rv2'],\n",
       "      dtype='object')"
      ]
     },
     "execution_count": 3,
     "metadata": {},
     "output_type": "execute_result"
    }
   ],
   "source": [
    "df = df.drop(columns = [\"date\", \"lights\"])\n",
    "df.columns"
   ]
  },
  {
   "cell_type": "code",
   "execution_count": 4,
   "id": "300b9f6f",
   "metadata": {},
   "outputs": [],
   "source": [
    "target = df[\"Appliances\"].values\n",
    "feat = df.drop(columns = [\"Appliances\"]).values"
   ]
  },
  {
   "cell_type": "code",
   "execution_count": 5,
   "id": "94c19882",
   "metadata": {},
   "outputs": [],
   "source": [
    "scalar = MinMaxScaler()\n",
    "\n",
    "feat = scalar.fit_transform(feat)"
   ]
  },
  {
   "cell_type": "code",
   "execution_count": 6,
   "id": "8f1a06ac",
   "metadata": {},
   "outputs": [
    {
     "name": "stdout",
     "output_type": "stream",
     "text": [
      "Train, Test sizes: 13814 13814\n"
     ]
    }
   ],
   "source": [
    "trainx, testx, trainy, testy = train_test_split(feat, target, train_size= 0.7, random_state=42)\n",
    "print(\"Train, Test sizes:\", len( trainx ), len( trainy ))"
   ]
  },
  {
   "cell_type": "markdown",
   "id": "1718c436",
   "metadata": {},
   "source": [
    "### Question 12\n",
    "From the dataset, fit a linear model on the relationship between the temperature in the living room in Celsius (x = T2) and the temperature outside the building (y = T6). What is the R^2 value in two D.P?"
   ]
  },
  {
   "cell_type": "code",
   "execution_count": 7,
   "id": "14f7c171",
   "metadata": {},
   "outputs": [
    {
     "name": "stdout",
     "output_type": "stream",
     "text": [
      "0.6418990830855483\n"
     ]
    }
   ],
   "source": [
    "from scipy import stats\n",
    "import seaborn as sns\n",
    "x  = \"T2\"\n",
    "y = \"T6\"\n",
    "\n",
    "func = lambda x,y : stats.pearsonr(x, y)[0] ** 2\n",
    "\n",
    "print(func(df[x], df[y]))"
   ]
  },
  {
   "cell_type": "code",
   "execution_count": 8,
   "id": "9de8dbf5",
   "metadata": {},
   "outputs": [
    {
     "data": {
      "text/plain": [
       "LinearRegression()"
      ]
     },
     "execution_count": 8,
     "metadata": {},
     "output_type": "execute_result"
    }
   ],
   "source": [
    "inx, iny, outx, outy = train_test_split(df[x], df[y],train_size=0.7, random_state=42)\n",
    "\n",
    "greg = LinearRegression()\n",
    "greg.fit(inx.values.reshape(1, -1), iny.values.reshape(1, -1))"
   ]
  },
  {
   "cell_type": "markdown",
   "id": "4b35fcb3",
   "metadata": {},
   "source": [
    "### Fitting model for the last few questions\n",
    "\n",
    "Assuming the last questions are based off of the energy data"
   ]
  },
  {
   "cell_type": "code",
   "execution_count": 9,
   "id": "0ca22166",
   "metadata": {},
   "outputs": [],
   "source": [
    "from sklearn.metrics import mean_absolute_error, r2_score, mean_squared_error\n",
    "last_func = lambda x, y: np.sum(np.square(x - y))"
   ]
  },
  {
   "cell_type": "code",
   "execution_count": 10,
   "id": "c17d2f88",
   "metadata": {},
   "outputs": [
    {
     "data": {
      "text/plain": [
       "LinearRegression()"
      ]
     },
     "execution_count": 10,
     "metadata": {},
     "output_type": "execute_result"
    }
   ],
   "source": [
    "reg = LinearRegression()\n",
    "reg.fit(trainx, trainy)"
   ]
  },
  {
   "cell_type": "code",
   "execution_count": 11,
   "id": "62baaa3b",
   "metadata": {},
   "outputs": [],
   "source": [
    "val0 = testy\n",
    "val1 = reg.predict(testx)"
   ]
  },
  {
   "cell_type": "markdown",
   "id": "3775ea98",
   "metadata": {},
   "source": [
    "### Question 13\n",
    "What is the Mean Absolute Error (in two decimal places)?"
   ]
  },
  {
   "cell_type": "code",
   "execution_count": 12,
   "id": "d8df0587",
   "metadata": {},
   "outputs": [
    {
     "data": {
      "text/plain": [
       "53.6411221799174"
      ]
     },
     "execution_count": 12,
     "metadata": {},
     "output_type": "execute_result"
    }
   ],
   "source": [
    "mean_absolute_error(val0, val1)"
   ]
  },
  {
   "cell_type": "markdown",
   "id": "d8a5a820",
   "metadata": {},
   "source": [
    "### Question 14\n",
    "\n",
    "What is the Residual Sum of Squares (in two decimal places)?"
   ]
  },
  {
   "cell_type": "code",
   "execution_count": 13,
   "id": "6eebbf57",
   "metadata": {},
   "outputs": [
    {
     "data": {
      "text/plain": [
       "51917116.49637169"
      ]
     },
     "execution_count": 13,
     "metadata": {},
     "output_type": "execute_result"
    }
   ],
   "source": [
    "last_func(val0, val1)"
   ]
  },
  {
   "cell_type": "markdown",
   "id": "86fdd5cc",
   "metadata": {},
   "source": [
    "### Question 15\n",
    "\n",
    "What is the Root Mean Squared Error (in three decimal places)?"
   ]
  },
  {
   "cell_type": "code",
   "execution_count": 14,
   "id": "953ae891",
   "metadata": {},
   "outputs": [
    {
     "data": {
      "text/plain": [
       "8768.302059849972"
      ]
     },
     "execution_count": 14,
     "metadata": {},
     "output_type": "execute_result"
    }
   ],
   "source": [
    "mean_squared_error(val0, val1)"
   ]
  },
  {
   "cell_type": "markdown",
   "id": "fbfa87d9",
   "metadata": {},
   "source": [
    "### Question 16\n",
    "\n",
    "What is the Coefficient of Determination (in two decimal places)?"
   ]
  },
  {
   "cell_type": "code",
   "execution_count": 15,
   "id": "8996ff8c",
   "metadata": {},
   "outputs": [
    {
     "data": {
      "text/plain": [
       "0.1489251627747067"
      ]
     },
     "execution_count": 15,
     "metadata": {},
     "output_type": "execute_result"
    }
   ],
   "source": [
    "r2_score(val0, val1)"
   ]
  },
  {
   "cell_type": "code",
   "execution_count": 16,
   "id": "7e5c46dc",
   "metadata": {},
   "outputs": [
    {
     "data": {
      "text/plain": [
       "25"
      ]
     },
     "execution_count": 16,
     "metadata": {},
     "output_type": "execute_result"
    }
   ],
   "source": [
    "np.argmax(reg.coef_)"
   ]
  },
  {
   "cell_type": "markdown",
   "id": "417e25c0",
   "metadata": {},
   "source": [
    "### Question 17\n",
    "\n",
    "\n",
    "Obtain the feature weights from your linear model above. Which features have the lowest and highest weights respectively?"
   ]
  },
  {
   "cell_type": "code",
   "execution_count": 17,
   "id": "3a4fea81",
   "metadata": {},
   "outputs": [
    {
     "data": {
      "text/plain": [
       "'rv1'"
      ]
     },
     "execution_count": 17,
     "metadata": {},
     "output_type": "execute_result"
    }
   ],
   "source": [
    "df.columns[25]"
   ]
  },
  {
   "cell_type": "markdown",
   "id": "bbaec342",
   "metadata": {},
   "source": [
    "### Question 18\n",
    "\n",
    "Train a ridge regression model with an alpha value of 0.4. Is there any change to the root mean squared error (RMSE) when evaluated on the test set?"
   ]
  },
  {
   "cell_type": "code",
   "execution_count": 18,
   "id": "3c837153",
   "metadata": {},
   "outputs": [
    {
     "data": {
      "text/plain": [
       "8772.425450548444"
      ]
     },
     "execution_count": 18,
     "metadata": {},
     "output_type": "execute_result"
    }
   ],
   "source": [
    "ridge = Ridge(alpha = 0.4)\n",
    "ridge.fit(trainx, trainy, )\n",
    "mean_squared_error(testy, ridge.predict(testx))"
   ]
  },
  {
   "cell_type": "markdown",
   "id": "08b09b53",
   "metadata": {},
   "source": [
    "### Question 19 & 20\n",
    "\n",
    "Train a lasso regression model with an alpha value of 0.001 and obtain the new feature weights with it. How many of the features have non-zero feature weights?"
   ]
  },
  {
   "cell_type": "code",
   "execution_count": 19,
   "id": "5c8a7026",
   "metadata": {},
   "outputs": [
    {
     "name": "stdout",
     "output_type": "stream",
     "text": [
      "8768.576031658373\n"
     ]
    }
   ],
   "source": [
    "reg = Lasso(alpha = 0.001)\n",
    "reg.fit(trainx, trainy, )\n",
    "reg.coef_\n",
    "print( mean_squared_error(testy, reg.predict(testx)) )"
   ]
  }
 ],
 "metadata": {
  "kernelspec": {
   "display_name": "Python 3",
   "language": "python",
   "name": "python3"
  },
  "language_info": {
   "codemirror_mode": {
    "name": "ipython",
    "version": 3
   },
   "file_extension": ".py",
   "mimetype": "text/x-python",
   "name": "python",
   "nbconvert_exporter": "python",
   "pygments_lexer": "ipython3",
   "version": "3.8.8"
  }
 },
 "nbformat": 4,
 "nbformat_minor": 5
}
